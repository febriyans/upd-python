{
 "cells": [
  {
   "cell_type": "code",
   "execution_count": 9,
   "metadata": {},
   "outputs": [
    {
     "name": "stdout",
     "output_type": "stream",
     "text": [
      "******************************\n",
      "DATA INPUT\n",
      "NIS : 1\n",
      "NAMA : 1\n",
      "JK : 1\n",
      "ROMBEL : 1\n",
      "RAYON : 1\n",
      "Nilai B. Indonesia : 1\n",
      "Nilai Matematika : 1\n",
      "Nilai B. Inggris : 1\n",
      "****************************** \n",
      "Laporan Nilai Akhir Semester \n",
      "SMK WIKRAMA BOGOR \n",
      "-------DATA DARI-------\n",
      "NIS : 1 \n",
      "NAMA : 1 \n",
      "JK : 1 \n",
      "ROMBEL : 1 \n",
      "RAYON : 1 \n",
      "---------NILAI---------\n",
      "Bahasa Indonesia : 1 \n",
      "Matematika : 1 \n",
      "Bahasa Inggris : 1\n",
      "Rata-rata Nilai : 1.0\n",
      "Kriteria kelulusan : Tidak Lulus\n"
     ]
    }
   ],
   "source": [
    "\n",
    "print(\"*\"*30 + \"\\nDATA INPUT\")\n",
    "\n",
    "nis=input(\"NIS : \")\n",
    "nama=input(\"NAMA : \")\n",
    "jk=input(\"JK : \")\n",
    "rombel=input(\"ROMBEL : \")\n",
    "rayon=input(\"RAYON : \")\n",
    "indo=int(input(\"Nilai B. Indonesia : \"))\n",
    "mtk=int(input(\"Nilai Matematika : \"))\n",
    "inggris=int(input(\"Nilai B. Inggris : \"))\n",
    "\n",
    "print(\"*\"*30,\"\\nLaporan Nilai Akhir Semester\",\"\\nSMK WIKRAMA BOGOR\",\"\\n-------DATA DARI-------\")\n",
    "print(\"NIS :\",nis,\"\\nNAMA :\",nama,\"\\nJK :\",jk,\"\\nROMBEL :\",rombel,\"\\nRAYON :\",rayon,\"\\n---------NILAI---------\")\n",
    "print(\"Bahasa Indonesia :\",indo,\"\\nMatematika :\",mtk,\"\\nBahasa Inggris :\",inggris)\n",
    "rata= (indo+mtk+inggris)/3\n",
    "print(\"Rata-rata Nilai :\",rata)\n",
    "if rata >= 75:\n",
    "    print(\"Kriteria kelulusan : Lulus\")\n",
    "else:\n",
    "     print(\"Kriteria kelulusan : Tidak Lulus\")"
   ]
  },
  {
   "cell_type": "markdown",
   "metadata": {},
   "source": [
    " "
   ]
  }
 ],
 "metadata": {
  "kernelspec": {
   "display_name": "Python 3",
   "language": "python",
   "name": "python3"
  },
  "language_info": {
   "codemirror_mode": {
    "name": "ipython",
    "version": 3
   },
   "file_extension": ".py",
   "mimetype": "text/x-python",
   "name": "python",
   "nbconvert_exporter": "python",
   "pygments_lexer": "ipython3",
   "version": "3.7.3"
  }
 },
 "nbformat": 4,
 "nbformat_minor": 2
}
